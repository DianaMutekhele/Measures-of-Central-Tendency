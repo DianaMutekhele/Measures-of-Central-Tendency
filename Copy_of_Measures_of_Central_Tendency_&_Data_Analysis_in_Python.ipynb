{
  "nbformat": 4,
  "nbformat_minor": 0,
  "metadata": {
    "colab": {
      "name": "Copy of Measures of Central Tendency & Data Analysis in Python.ipynb",
      "provenance": [],
      "collapsed_sections": [],
      "include_colab_link": true
    },
    "kernelspec": {
      "name": "python3",
      "display_name": "Python 3"
    }
  },
  "cells": [
    {
      "cell_type": "markdown",
      "metadata": {
        "id": "view-in-github",
        "colab_type": "text"
      },
      "source": [
        "<a href=\"https://colab.research.google.com/github/DianaMutekhele/Measures-of-Central-Tendency/blob/main/Copy_of_Measures_of_Central_Tendency_%26_Data_Analysis_in_Python.ipynb\" target=\"_parent\"><img src=\"https://colab.research.google.com/assets/colab-badge.svg\" alt=\"Open In Colab\"/></a>"
      ]
    },
    {
      "cell_type": "markdown",
      "metadata": {
        "id": "mSYauU_FAeBR"
      },
      "source": [
        "\n",
        "DIANA MUTEKHELE"
      ]
    },
    {
      "cell_type": "markdown",
      "metadata": {
        "id": "2_uLaPsCWmdk"
      },
      "source": [
        "**Please make a copy of this notebook to your drive and edit it(As we normally do in class)**\n",
        "\n",
        "\n",
        "**Please do everything on Colab**\n",
        "\n",
        "\n",
        "**Please submit your notebook by Wednesday 15th Sept 2021**\n",
        "\n",
        "\n",
        "\n",
        "**Add your name on top as the first cell of your work**\n",
        "\n"
      ]
    },
    {
      "cell_type": "code",
      "metadata": {
        "id": "_xutoHL-V3fL"
      },
      "source": [
        "# TODO: import pandas and numpy here\n",
        "# Please use the conventions covered in class\n",
        "import pandas as pd\n",
        "import numpy as np \n",
        "import matplotlib.pyplot as plt\n",
        "import os\n",
        "import seaborn as sns\n",
        "\n",
        "# show all df columns and diplay plots in line\n",
        "pd.set_option('display.max_columns', None)\n",
        "%matplotlib inline"
      ],
      "execution_count": null,
      "outputs": []
    },
    {
      "cell_type": "markdown",
      "metadata": {
        "id": "tQGiMkT9WJmo"
      },
      "source": [
        "# How to set up the working environment\n",
        "\n",
        "1. Make a directory called data. Hint: use mkdir\n",
        "\n",
        "2. Download the iris dataset into this folder. The files can be found in https://archive.ics.uci.edu/ml/machine-learning-databases/iris/\n",
        "\n",
        "3. Import the iris.data file as a csv. The csv file does not have an header included.\n",
        "\n",
        "4. check the iris.names file. It has the names of the columns.\n",
        "\n",
        "5. View your data. How many columns contain numbers? Use a pandas function to check it.\n",
        "\n",
        "6. Do we have missing data in the dataframe?\n",
        "\n"
      ]
    },
    {
      "cell_type": "code",
      "metadata": {
        "id": "f4VMraZFWE0U"
      },
      "source": [
        "# TODO: create a directory named \"data\".USE THE HINT Above or some Commands covered in Previous classes\n",
        "!mkdir data "
      ],
      "execution_count": null,
      "outputs": []
    },
    {
      "cell_type": "code",
      "metadata": {
        "id": "wMznSwG2WE9r",
        "colab": {
          "base_uri": "https://localhost:8080/"
        },
        "outputId": "f447053c-80dd-4a31-93be-d3c9d4039263"
      },
      "source": [
        "# TODO: Download iris.names and iris..data from link provided. Hint: Use wget,you are allowed to google\n",
        "!wget -P data https://archive.ics.uci.edu/ml/machine-learning-databases/iris/iris.data\n",
        "!wget -P data https://archive.ics.uci.edu/ml/machine-learning-databases/iris/iris.names"
      ],
      "execution_count": null,
      "outputs": [
        {
          "output_type": "stream",
          "name": "stdout",
          "text": [
            "--2021-09-15 09:23:37--  https://archive.ics.uci.edu/ml/machine-learning-databases/iris/iris.data\n",
            "Resolving archive.ics.uci.edu (archive.ics.uci.edu)... 128.195.10.252\n",
            "Connecting to archive.ics.uci.edu (archive.ics.uci.edu)|128.195.10.252|:443... connected.\n",
            "HTTP request sent, awaiting response... 200 OK\n",
            "Length: 4551 (4.4K) [application/x-httpd-php]\n",
            "Saving to: ‘data/iris.data’\n",
            "\n",
            "iris.data           100%[===================>]   4.44K  --.-KB/s    in 0s      \n",
            "\n",
            "2021-09-15 09:23:37 (131 MB/s) - ‘data/iris.data’ saved [4551/4551]\n",
            "\n",
            "--2021-09-15 09:23:37--  https://archive.ics.uci.edu/ml/machine-learning-databases/iris/iris.names\n",
            "Resolving archive.ics.uci.edu (archive.ics.uci.edu)... 128.195.10.252\n",
            "Connecting to archive.ics.uci.edu (archive.ics.uci.edu)|128.195.10.252|:443... connected.\n",
            "HTTP request sent, awaiting response... 200 OK\n",
            "Length: 2998 (2.9K) [application/x-httpd-php]\n",
            "Saving to: ‘data/iris.names’\n",
            "\n",
            "iris.names          100%[===================>]   2.93K  --.-KB/s    in 0s      \n",
            "\n",
            "2021-09-15 09:23:38 (117 MB/s) - ‘data/iris.names’ saved [2998/2998]\n",
            "\n"
          ]
        }
      ]
    },
    {
      "cell_type": "code",
      "metadata": {
        "id": "j7fdTXN7YGht"
      },
      "source": [
        "# TODO: read in the table. Save as a dataframe called \"iris_df\"\n",
        "path = '/content/data'\n",
        "iris_df = pd.read_csv(f\"{path}/iris.data\", header= None)\n"
      ],
      "execution_count": null,
      "outputs": []
    },
    {
      "cell_type": "code",
      "metadata": {
        "id": "UnSYlKzdRL8b",
        "colab": {
          "base_uri": "https://localhost:8080/",
          "height": 202
        },
        "outputId": "3e47008f-294f-4497-e7b8-88a3dcca5817"
      },
      "source": [
        "iris_df.head()\n"
      ],
      "execution_count": null,
      "outputs": [
        {
          "output_type": "execute_result",
          "data": {
            "text/html": [
              "<div>\n",
              "<style scoped>\n",
              "    .dataframe tbody tr th:only-of-type {\n",
              "        vertical-align: middle;\n",
              "    }\n",
              "\n",
              "    .dataframe tbody tr th {\n",
              "        vertical-align: top;\n",
              "    }\n",
              "\n",
              "    .dataframe thead th {\n",
              "        text-align: right;\n",
              "    }\n",
              "</style>\n",
              "<table border=\"1\" class=\"dataframe\">\n",
              "  <thead>\n",
              "    <tr style=\"text-align: right;\">\n",
              "      <th></th>\n",
              "      <th>0</th>\n",
              "      <th>1</th>\n",
              "      <th>2</th>\n",
              "      <th>3</th>\n",
              "      <th>4</th>\n",
              "    </tr>\n",
              "  </thead>\n",
              "  <tbody>\n",
              "    <tr>\n",
              "      <th>0</th>\n",
              "      <td>5.1</td>\n",
              "      <td>3.5</td>\n",
              "      <td>1.4</td>\n",
              "      <td>0.2</td>\n",
              "      <td>Iris-setosa</td>\n",
              "    </tr>\n",
              "    <tr>\n",
              "      <th>1</th>\n",
              "      <td>4.9</td>\n",
              "      <td>3.0</td>\n",
              "      <td>1.4</td>\n",
              "      <td>0.2</td>\n",
              "      <td>Iris-setosa</td>\n",
              "    </tr>\n",
              "    <tr>\n",
              "      <th>2</th>\n",
              "      <td>4.7</td>\n",
              "      <td>3.2</td>\n",
              "      <td>1.3</td>\n",
              "      <td>0.2</td>\n",
              "      <td>Iris-setosa</td>\n",
              "    </tr>\n",
              "    <tr>\n",
              "      <th>3</th>\n",
              "      <td>4.6</td>\n",
              "      <td>3.1</td>\n",
              "      <td>1.5</td>\n",
              "      <td>0.2</td>\n",
              "      <td>Iris-setosa</td>\n",
              "    </tr>\n",
              "    <tr>\n",
              "      <th>4</th>\n",
              "      <td>5.0</td>\n",
              "      <td>3.6</td>\n",
              "      <td>1.4</td>\n",
              "      <td>0.2</td>\n",
              "      <td>Iris-setosa</td>\n",
              "    </tr>\n",
              "  </tbody>\n",
              "</table>\n",
              "</div>"
            ],
            "text/plain": [
              "     0    1    2    3            4\n",
              "0  5.1  3.5  1.4  0.2  Iris-setosa\n",
              "1  4.9  3.0  1.4  0.2  Iris-setosa\n",
              "2  4.7  3.2  1.3  0.2  Iris-setosa\n",
              "3  4.6  3.1  1.5  0.2  Iris-setosa\n",
              "4  5.0  3.6  1.4  0.2  Iris-setosa"
            ]
          },
          "metadata": {},
          "execution_count": 5
        }
      ]
    },
    {
      "cell_type": "code",
      "metadata": {
        "colab": {
          "base_uri": "https://localhost:8080/",
          "height": 414
        },
        "id": "qpGijIIxKmBb",
        "outputId": "b5937314-0797-41db-9fcd-bea7c912ed14"
      },
      "source": [
        "iris_df"
      ],
      "execution_count": null,
      "outputs": [
        {
          "output_type": "execute_result",
          "data": {
            "text/html": [
              "<div>\n",
              "<style scoped>\n",
              "    .dataframe tbody tr th:only-of-type {\n",
              "        vertical-align: middle;\n",
              "    }\n",
              "\n",
              "    .dataframe tbody tr th {\n",
              "        vertical-align: top;\n",
              "    }\n",
              "\n",
              "    .dataframe thead th {\n",
              "        text-align: right;\n",
              "    }\n",
              "</style>\n",
              "<table border=\"1\" class=\"dataframe\">\n",
              "  <thead>\n",
              "    <tr style=\"text-align: right;\">\n",
              "      <th></th>\n",
              "      <th>0</th>\n",
              "      <th>1</th>\n",
              "      <th>2</th>\n",
              "      <th>3</th>\n",
              "      <th>4</th>\n",
              "    </tr>\n",
              "  </thead>\n",
              "  <tbody>\n",
              "    <tr>\n",
              "      <th>0</th>\n",
              "      <td>5.1</td>\n",
              "      <td>3.5</td>\n",
              "      <td>1.4</td>\n",
              "      <td>0.2</td>\n",
              "      <td>Iris-setosa</td>\n",
              "    </tr>\n",
              "    <tr>\n",
              "      <th>1</th>\n",
              "      <td>4.9</td>\n",
              "      <td>3.0</td>\n",
              "      <td>1.4</td>\n",
              "      <td>0.2</td>\n",
              "      <td>Iris-setosa</td>\n",
              "    </tr>\n",
              "    <tr>\n",
              "      <th>2</th>\n",
              "      <td>4.7</td>\n",
              "      <td>3.2</td>\n",
              "      <td>1.3</td>\n",
              "      <td>0.2</td>\n",
              "      <td>Iris-setosa</td>\n",
              "    </tr>\n",
              "    <tr>\n",
              "      <th>3</th>\n",
              "      <td>4.6</td>\n",
              "      <td>3.1</td>\n",
              "      <td>1.5</td>\n",
              "      <td>0.2</td>\n",
              "      <td>Iris-setosa</td>\n",
              "    </tr>\n",
              "    <tr>\n",
              "      <th>4</th>\n",
              "      <td>5.0</td>\n",
              "      <td>3.6</td>\n",
              "      <td>1.4</td>\n",
              "      <td>0.2</td>\n",
              "      <td>Iris-setosa</td>\n",
              "    </tr>\n",
              "    <tr>\n",
              "      <th>...</th>\n",
              "      <td>...</td>\n",
              "      <td>...</td>\n",
              "      <td>...</td>\n",
              "      <td>...</td>\n",
              "      <td>...</td>\n",
              "    </tr>\n",
              "    <tr>\n",
              "      <th>145</th>\n",
              "      <td>6.7</td>\n",
              "      <td>3.0</td>\n",
              "      <td>5.2</td>\n",
              "      <td>2.3</td>\n",
              "      <td>Iris-virginica</td>\n",
              "    </tr>\n",
              "    <tr>\n",
              "      <th>146</th>\n",
              "      <td>6.3</td>\n",
              "      <td>2.5</td>\n",
              "      <td>5.0</td>\n",
              "      <td>1.9</td>\n",
              "      <td>Iris-virginica</td>\n",
              "    </tr>\n",
              "    <tr>\n",
              "      <th>147</th>\n",
              "      <td>6.5</td>\n",
              "      <td>3.0</td>\n",
              "      <td>5.2</td>\n",
              "      <td>2.0</td>\n",
              "      <td>Iris-virginica</td>\n",
              "    </tr>\n",
              "    <tr>\n",
              "      <th>148</th>\n",
              "      <td>6.2</td>\n",
              "      <td>3.4</td>\n",
              "      <td>5.4</td>\n",
              "      <td>2.3</td>\n",
              "      <td>Iris-virginica</td>\n",
              "    </tr>\n",
              "    <tr>\n",
              "      <th>149</th>\n",
              "      <td>5.9</td>\n",
              "      <td>3.0</td>\n",
              "      <td>5.1</td>\n",
              "      <td>1.8</td>\n",
              "      <td>Iris-virginica</td>\n",
              "    </tr>\n",
              "  </tbody>\n",
              "</table>\n",
              "<p>150 rows × 5 columns</p>\n",
              "</div>"
            ],
            "text/plain": [
              "       0    1    2    3               4\n",
              "0    5.1  3.5  1.4  0.2     Iris-setosa\n",
              "1    4.9  3.0  1.4  0.2     Iris-setosa\n",
              "2    4.7  3.2  1.3  0.2     Iris-setosa\n",
              "3    4.6  3.1  1.5  0.2     Iris-setosa\n",
              "4    5.0  3.6  1.4  0.2     Iris-setosa\n",
              "..   ...  ...  ...  ...             ...\n",
              "145  6.7  3.0  5.2  2.3  Iris-virginica\n",
              "146  6.3  2.5  5.0  1.9  Iris-virginica\n",
              "147  6.5  3.0  5.2  2.0  Iris-virginica\n",
              "148  6.2  3.4  5.4  2.3  Iris-virginica\n",
              "149  5.9  3.0  5.1  1.8  Iris-virginica\n",
              "\n",
              "[150 rows x 5 columns]"
            ]
          },
          "metadata": {},
          "execution_count": 6
        }
      ]
    },
    {
      "cell_type": "code",
      "metadata": {
        "colab": {
          "base_uri": "https://localhost:8080/"
        },
        "id": "euP0JspoE0Hs",
        "outputId": "9a5f7ac8-6568-4f81-e8ed-7b128a2483d9"
      },
      "source": [
        "path = '/content/data'\n",
        "df = pd.read_csv(f\"{path}/iris.names\", sep = 'delimiter', header= None)"
      ],
      "execution_count": null,
      "outputs": [
        {
          "output_type": "stream",
          "name": "stderr",
          "text": [
            "/usr/local/lib/python3.7/dist-packages/ipykernel_launcher.py:2: ParserWarning: Falling back to the 'python' engine because the 'c' engine does not support regex separators (separators > 1 char and different from '\\s+' are interpreted as regex); you can avoid this warning by specifying engine='python'.\n",
            "  \n"
          ]
        }
      ]
    },
    {
      "cell_type": "code",
      "metadata": {
        "colab": {
          "base_uri": "https://localhost:8080/",
          "height": 1000
        },
        "id": "Z32Rit5tLcKE",
        "outputId": "61924e9a-bef8-44c0-c526-0283e0bede48"
      },
      "source": [
        "df"
      ],
      "execution_count": null,
      "outputs": [
        {
          "output_type": "execute_result",
          "data": {
            "text/html": [
              "<div>\n",
              "<style scoped>\n",
              "    .dataframe tbody tr th:only-of-type {\n",
              "        vertical-align: middle;\n",
              "    }\n",
              "\n",
              "    .dataframe tbody tr th {\n",
              "        vertical-align: top;\n",
              "    }\n",
              "\n",
              "    .dataframe thead th {\n",
              "        text-align: right;\n",
              "    }\n",
              "</style>\n",
              "<table border=\"1\" class=\"dataframe\">\n",
              "  <thead>\n",
              "    <tr style=\"text-align: right;\">\n",
              "      <th></th>\n",
              "      <th>0</th>\n",
              "    </tr>\n",
              "  </thead>\n",
              "  <tbody>\n",
              "    <tr>\n",
              "      <th>0</th>\n",
              "      <td>1. Title: Iris Plants Database</td>\n",
              "    </tr>\n",
              "    <tr>\n",
              "      <th>1</th>\n",
              "      <td>Updated Sept 21 by C.Blake - Added discrepency...</td>\n",
              "    </tr>\n",
              "    <tr>\n",
              "      <th>2</th>\n",
              "      <td>2. Sources:</td>\n",
              "    </tr>\n",
              "    <tr>\n",
              "      <th>3</th>\n",
              "      <td>(a) Creator: R.A. Fisher</td>\n",
              "    </tr>\n",
              "    <tr>\n",
              "      <th>4</th>\n",
              "      <td>(b) Donor: Michael Marshall (MARSHALL%PLU@io.a...</td>\n",
              "    </tr>\n",
              "    <tr>\n",
              "      <th>5</th>\n",
              "      <td>(c) Date: July, 1988</td>\n",
              "    </tr>\n",
              "    <tr>\n",
              "      <th>6</th>\n",
              "      <td>3. Past Usage:</td>\n",
              "    </tr>\n",
              "    <tr>\n",
              "      <th>7</th>\n",
              "      <td>- Publications: too many to mention!!!  Here a...</td>\n",
              "    </tr>\n",
              "    <tr>\n",
              "      <th>8</th>\n",
              "      <td>1. Fisher,R.A. \"The use of multiple measuremen...</td>\n",
              "    </tr>\n",
              "    <tr>\n",
              "      <th>9</th>\n",
              "      <td>Annual Eugenics, 7, Part II, 179-188 (1936); a...</td>\n",
              "    </tr>\n",
              "    <tr>\n",
              "      <th>10</th>\n",
              "      <td>to Mathematical Statistics\" (John Wiley, NY, 1...</td>\n",
              "    </tr>\n",
              "    <tr>\n",
              "      <th>11</th>\n",
              "      <td>2. Duda,R.O., &amp; Hart,P.E. (1973) Pattern Class...</td>\n",
              "    </tr>\n",
              "    <tr>\n",
              "      <th>12</th>\n",
              "      <td>(Q327.D83) John Wiley &amp; Sons.  ISBN 0-471-2236...</td>\n",
              "    </tr>\n",
              "    <tr>\n",
              "      <th>13</th>\n",
              "      <td>3. Dasarathy, B.V. (1980) \"Nosing Around the N...</td>\n",
              "    </tr>\n",
              "    <tr>\n",
              "      <th>14</th>\n",
              "      <td>Structure and Classification Rule for Recognit...</td>\n",
              "    </tr>\n",
              "    <tr>\n",
              "      <th>15</th>\n",
              "      <td>Environments\".  IEEE Transactions on Pattern A...</td>\n",
              "    </tr>\n",
              "    <tr>\n",
              "      <th>16</th>\n",
              "      <td>Intelligence, Vol. PAMI-2, No. 1, 67-71.</td>\n",
              "    </tr>\n",
              "    <tr>\n",
              "      <th>17</th>\n",
              "      <td>-- Results:</td>\n",
              "    </tr>\n",
              "    <tr>\n",
              "      <th>18</th>\n",
              "      <td>-- very low misclassification rates (0% for th...</td>\n",
              "    </tr>\n",
              "    <tr>\n",
              "      <th>19</th>\n",
              "      <td>4. Gates, G.W. (1972) \"The Reduced Nearest Nei...</td>\n",
              "    </tr>\n",
              "    <tr>\n",
              "      <th>20</th>\n",
              "      <td>Transactions on Information Theory, May 1972, ...</td>\n",
              "    </tr>\n",
              "    <tr>\n",
              "      <th>21</th>\n",
              "      <td>-- Results:</td>\n",
              "    </tr>\n",
              "    <tr>\n",
              "      <th>22</th>\n",
              "      <td>-- very low misclassification rates again</td>\n",
              "    </tr>\n",
              "    <tr>\n",
              "      <th>23</th>\n",
              "      <td>5. See also: 1988 MLC Proceedings, 54-64.  Che...</td>\n",
              "    </tr>\n",
              "    <tr>\n",
              "      <th>24</th>\n",
              "      <td>conceptual clustering system finds 3 classes i...</td>\n",
              "    </tr>\n",
              "    <tr>\n",
              "      <th>25</th>\n",
              "      <td>4. Relevant Information:</td>\n",
              "    </tr>\n",
              "    <tr>\n",
              "      <th>26</th>\n",
              "      <td>--- This is perhaps the best known database to...</td>\n",
              "    </tr>\n",
              "    <tr>\n",
              "      <th>27</th>\n",
              "      <td>recognition literature.  Fisher's paper is a c...</td>\n",
              "    </tr>\n",
              "    <tr>\n",
              "      <th>28</th>\n",
              "      <td>and is referenced frequently to this day.  (Se...</td>\n",
              "    </tr>\n",
              "    <tr>\n",
              "      <th>29</th>\n",
              "      <td>example.)  The data set contains 3 classes of ...</td>\n",
              "    </tr>\n",
              "    <tr>\n",
              "      <th>30</th>\n",
              "      <td>where each class refers to a type of iris plan...</td>\n",
              "    </tr>\n",
              "    <tr>\n",
              "      <th>31</th>\n",
              "      <td>linearly separable from the other 2; the latte...</td>\n",
              "    </tr>\n",
              "    <tr>\n",
              "      <th>32</th>\n",
              "      <td>separable from each other.</td>\n",
              "    </tr>\n",
              "    <tr>\n",
              "      <th>33</th>\n",
              "      <td>--- Predicted attribute: class of iris plant.</td>\n",
              "    </tr>\n",
              "    <tr>\n",
              "      <th>34</th>\n",
              "      <td>--- This is an exceedingly simple domain.</td>\n",
              "    </tr>\n",
              "    <tr>\n",
              "      <th>35</th>\n",
              "      <td>--- This data differs from the data presented ...</td>\n",
              "    </tr>\n",
              "    <tr>\n",
              "      <th>36</th>\n",
              "      <td>(identified by Steve Chadwick,  spchadwick@esp...</td>\n",
              "    </tr>\n",
              "    <tr>\n",
              "      <th>37</th>\n",
              "      <td>The 35th sample should be: 4.9,3.1,1.5,0.2,\"Ir...</td>\n",
              "    </tr>\n",
              "    <tr>\n",
              "      <th>38</th>\n",
              "      <td>where the error is in the fourth feature.</td>\n",
              "    </tr>\n",
              "    <tr>\n",
              "      <th>39</th>\n",
              "      <td>The 38th sample: 4.9,3.6,1.4,0.1,\"Iris-setosa\"</td>\n",
              "    </tr>\n",
              "    <tr>\n",
              "      <th>40</th>\n",
              "      <td>where the errors are in the second and third f...</td>\n",
              "    </tr>\n",
              "    <tr>\n",
              "      <th>41</th>\n",
              "      <td>5. Number of Instances: 150 (50 in each of thr...</td>\n",
              "    </tr>\n",
              "    <tr>\n",
              "      <th>42</th>\n",
              "      <td>6. Number of Attributes: 4 numeric, predictive...</td>\n",
              "    </tr>\n",
              "    <tr>\n",
              "      <th>43</th>\n",
              "      <td>7. Attribute Information:</td>\n",
              "    </tr>\n",
              "    <tr>\n",
              "      <th>44</th>\n",
              "      <td>1. sepal length in cm</td>\n",
              "    </tr>\n",
              "    <tr>\n",
              "      <th>45</th>\n",
              "      <td>2. sepal width in cm</td>\n",
              "    </tr>\n",
              "    <tr>\n",
              "      <th>46</th>\n",
              "      <td>3. petal length in cm</td>\n",
              "    </tr>\n",
              "    <tr>\n",
              "      <th>47</th>\n",
              "      <td>4. petal width in cm</td>\n",
              "    </tr>\n",
              "    <tr>\n",
              "      <th>48</th>\n",
              "      <td>5. class:</td>\n",
              "    </tr>\n",
              "    <tr>\n",
              "      <th>49</th>\n",
              "      <td>-- Iris Setosa</td>\n",
              "    </tr>\n",
              "    <tr>\n",
              "      <th>50</th>\n",
              "      <td>-- Iris Versicolour</td>\n",
              "    </tr>\n",
              "    <tr>\n",
              "      <th>51</th>\n",
              "      <td>-- Iris Virginica</td>\n",
              "    </tr>\n",
              "    <tr>\n",
              "      <th>52</th>\n",
              "      <td>8. Missing Attribute Values: None</td>\n",
              "    </tr>\n",
              "    <tr>\n",
              "      <th>53</th>\n",
              "      <td>Summary Statistics:</td>\n",
              "    </tr>\n",
              "    <tr>\n",
              "      <th>54</th>\n",
              "      <td>Min  Max   Mean    SD   Class Correlation</td>\n",
              "    </tr>\n",
              "    <tr>\n",
              "      <th>55</th>\n",
              "      <td>sepal length: 4.3  7.9   5.84  0.83    0.7826</td>\n",
              "    </tr>\n",
              "    <tr>\n",
              "      <th>56</th>\n",
              "      <td>sepal width: 2.0  4.4   3.05  0.43   -0.4194</td>\n",
              "    </tr>\n",
              "    <tr>\n",
              "      <th>57</th>\n",
              "      <td>petal length: 1.0  6.9   3.76  1.76    0.9490 ...</td>\n",
              "    </tr>\n",
              "    <tr>\n",
              "      <th>58</th>\n",
              "      <td>petal width: 0.1  2.5   1.20  0.76    0.9565  ...</td>\n",
              "    </tr>\n",
              "    <tr>\n",
              "      <th>59</th>\n",
              "      <td>9. Class Distribution: 33.3% for each of 3 cla...</td>\n",
              "    </tr>\n",
              "  </tbody>\n",
              "</table>\n",
              "</div>"
            ],
            "text/plain": [
              "                                                    0\n",
              "0                      1. Title: Iris Plants Database\n",
              "1   Updated Sept 21 by C.Blake - Added discrepency...\n",
              "2                                         2. Sources:\n",
              "3                            (a) Creator: R.A. Fisher\n",
              "4   (b) Donor: Michael Marshall (MARSHALL%PLU@io.a...\n",
              "5                                (c) Date: July, 1988\n",
              "6                                      3. Past Usage:\n",
              "7   - Publications: too many to mention!!!  Here a...\n",
              "8   1. Fisher,R.A. \"The use of multiple measuremen...\n",
              "9   Annual Eugenics, 7, Part II, 179-188 (1936); a...\n",
              "10  to Mathematical Statistics\" (John Wiley, NY, 1...\n",
              "11  2. Duda,R.O., & Hart,P.E. (1973) Pattern Class...\n",
              "12  (Q327.D83) John Wiley & Sons.  ISBN 0-471-2236...\n",
              "13  3. Dasarathy, B.V. (1980) \"Nosing Around the N...\n",
              "14  Structure and Classification Rule for Recognit...\n",
              "15  Environments\".  IEEE Transactions on Pattern A...\n",
              "16           Intelligence, Vol. PAMI-2, No. 1, 67-71.\n",
              "17                                        -- Results:\n",
              "18  -- very low misclassification rates (0% for th...\n",
              "19  4. Gates, G.W. (1972) \"The Reduced Nearest Nei...\n",
              "20  Transactions on Information Theory, May 1972, ...\n",
              "21                                        -- Results:\n",
              "22          -- very low misclassification rates again\n",
              "23  5. See also: 1988 MLC Proceedings, 54-64.  Che...\n",
              "24  conceptual clustering system finds 3 classes i...\n",
              "25                           4. Relevant Information:\n",
              "26  --- This is perhaps the best known database to...\n",
              "27  recognition literature.  Fisher's paper is a c...\n",
              "28  and is referenced frequently to this day.  (Se...\n",
              "29  example.)  The data set contains 3 classes of ...\n",
              "30  where each class refers to a type of iris plan...\n",
              "31  linearly separable from the other 2; the latte...\n",
              "32                         separable from each other.\n",
              "33      --- Predicted attribute: class of iris plant.\n",
              "34          --- This is an exceedingly simple domain.\n",
              "35  --- This data differs from the data presented ...\n",
              "36  (identified by Steve Chadwick,  spchadwick@esp...\n",
              "37  The 35th sample should be: 4.9,3.1,1.5,0.2,\"Ir...\n",
              "38          where the error is in the fourth feature.\n",
              "39     The 38th sample: 4.9,3.6,1.4,0.1,\"Iris-setosa\"\n",
              "40  where the errors are in the second and third f...\n",
              "41  5. Number of Instances: 150 (50 in each of thr...\n",
              "42  6. Number of Attributes: 4 numeric, predictive...\n",
              "43                          7. Attribute Information:\n",
              "44                              1. sepal length in cm\n",
              "45                               2. sepal width in cm\n",
              "46                              3. petal length in cm\n",
              "47                               4. petal width in cm\n",
              "48                                          5. class:\n",
              "49                                     -- Iris Setosa\n",
              "50                                -- Iris Versicolour\n",
              "51                                  -- Iris Virginica\n",
              "52                  8. Missing Attribute Values: None\n",
              "53                                Summary Statistics:\n",
              "54          Min  Max   Mean    SD   Class Correlation\n",
              "55      sepal length: 4.3  7.9   5.84  0.83    0.7826\n",
              "56       sepal width: 2.0  4.4   3.05  0.43   -0.4194\n",
              "57  petal length: 1.0  6.9   3.76  1.76    0.9490 ...\n",
              "58  petal width: 0.1  2.5   1.20  0.76    0.9565  ...\n",
              "59  9. Class Distribution: 33.3% for each of 3 cla..."
            ]
          },
          "metadata": {},
          "execution_count": 8
        }
      ]
    },
    {
      "cell_type": "code",
      "metadata": {
        "colab": {
          "base_uri": "https://localhost:8080/"
        },
        "id": "0IyracfoEqX-",
        "outputId": "1b1f1c4b-483c-4016-98a4-3acbe20ff57f"
      },
      "source": [
        "path = '/content/data'\n",
        "df = pd.read_csv(f\"{path}/iris.names\", error_bad_lines=False)"
      ],
      "execution_count": null,
      "outputs": [
        {
          "output_type": "stream",
          "name": "stderr",
          "text": [
            "b'Skipping line 7: expected 1 fields, saw 2\\nSkipping line 11: expected 1 fields, saw 2\\nSkipping line 12: expected 1 fields, saw 4\\nSkipping line 13: expected 1 fields, saw 3\\nSkipping line 14: expected 1 fields, saw 4\\nSkipping line 16: expected 1 fields, saw 2\\nSkipping line 19: expected 1 fields, saw 4\\nSkipping line 22: expected 1 fields, saw 2\\nSkipping line 23: expected 1 fields, saw 3\\nSkipping line 26: expected 1 fields, saw 2\\nSkipping line 32: expected 1 fields, saw 2\\nSkipping line 33: expected 1 fields, saw 2\\nSkipping line 40: expected 1 fields, saw 2\\nSkipping line 41: expected 1 fields, saw 5\\nSkipping line 43: expected 1 fields, saw 5\\nSkipping line 48: expected 1 fields, saw 2\\n'\n"
          ]
        }
      ]
    },
    {
      "cell_type": "code",
      "metadata": {
        "colab": {
          "base_uri": "https://localhost:8080/"
        },
        "id": "rNMSwwUYIh_F",
        "outputId": "bb5594ea-f550-4bf8-db90-41163892e61d"
      },
      "source": [
        "df.columns"
      ],
      "execution_count": null,
      "outputs": [
        {
          "output_type": "execute_result",
          "data": {
            "text/plain": [
              "Index(['1. Title: Iris Plants Database'], dtype='object')"
            ]
          },
          "metadata": {},
          "execution_count": 10
        }
      ]
    },
    {
      "cell_type": "code",
      "metadata": {
        "colab": {
          "base_uri": "https://localhost:8080/",
          "height": 1000
        },
        "id": "8vO-fL3bJYMB",
        "outputId": "4e50fbff-9138-441e-da81-1b2ec7d26f03"
      },
      "source": [
        "df"
      ],
      "execution_count": null,
      "outputs": [
        {
          "output_type": "execute_result",
          "data": {
            "text/html": [
              "<div>\n",
              "<style scoped>\n",
              "    .dataframe tbody tr th:only-of-type {\n",
              "        vertical-align: middle;\n",
              "    }\n",
              "\n",
              "    .dataframe tbody tr th {\n",
              "        vertical-align: top;\n",
              "    }\n",
              "\n",
              "    .dataframe thead th {\n",
              "        text-align: right;\n",
              "    }\n",
              "</style>\n",
              "<table border=\"1\" class=\"dataframe\">\n",
              "  <thead>\n",
              "    <tr style=\"text-align: right;\">\n",
              "      <th></th>\n",
              "      <th>1. Title: Iris Plants Database</th>\n",
              "    </tr>\n",
              "  </thead>\n",
              "  <tbody>\n",
              "    <tr>\n",
              "      <th>0</th>\n",
              "      <td>\\tUpdated Sept 21 by C.Blake - Added discrepen...</td>\n",
              "    </tr>\n",
              "    <tr>\n",
              "      <th>1</th>\n",
              "      <td>2. Sources:</td>\n",
              "    </tr>\n",
              "    <tr>\n",
              "      <th>2</th>\n",
              "      <td>(a) Creator: R.A. Fisher</td>\n",
              "    </tr>\n",
              "    <tr>\n",
              "      <th>3</th>\n",
              "      <td>(b) Donor: Michael Marshall (MARSHALL%PLU...</td>\n",
              "    </tr>\n",
              "    <tr>\n",
              "      <th>4</th>\n",
              "      <td>3. Past Usage:</td>\n",
              "    </tr>\n",
              "    <tr>\n",
              "      <th>5</th>\n",
              "      <td>- Publications: too many to mention!!!  Her...</td>\n",
              "    </tr>\n",
              "    <tr>\n",
              "      <th>6</th>\n",
              "      <td>(Q327.D83) John Wiley &amp; Sons.  ISBN 0-47...</td>\n",
              "    </tr>\n",
              "    <tr>\n",
              "      <th>7</th>\n",
              "      <td>Structure and Classification Rule for Re...</td>\n",
              "    </tr>\n",
              "    <tr>\n",
              "      <th>8</th>\n",
              "      <td>Environments\".  IEEE Transactions on Pat...</td>\n",
              "    </tr>\n",
              "    <tr>\n",
              "      <th>9</th>\n",
              "      <td>-- Results:</td>\n",
              "    </tr>\n",
              "    <tr>\n",
              "      <th>10</th>\n",
              "      <td>-- very low misclassification rates (...</td>\n",
              "    </tr>\n",
              "    <tr>\n",
              "      <th>11</th>\n",
              "      <td>-- Results:</td>\n",
              "    </tr>\n",
              "    <tr>\n",
              "      <th>12</th>\n",
              "      <td>-- very low misclassification rates a...</td>\n",
              "    </tr>\n",
              "    <tr>\n",
              "      <th>13</th>\n",
              "      <td>conceptual clustering system finds 3 cla...</td>\n",
              "    </tr>\n",
              "    <tr>\n",
              "      <th>14</th>\n",
              "      <td>4. Relevant Information:</td>\n",
              "    </tr>\n",
              "    <tr>\n",
              "      <th>15</th>\n",
              "      <td>--- This is perhaps the best known database...</td>\n",
              "    </tr>\n",
              "    <tr>\n",
              "      <th>16</th>\n",
              "      <td>recognition literature.  Fisher's paper...</td>\n",
              "    </tr>\n",
              "    <tr>\n",
              "      <th>17</th>\n",
              "      <td>where each class refers to a type of ir...</td>\n",
              "    </tr>\n",
              "    <tr>\n",
              "      <th>18</th>\n",
              "      <td>linearly separable from the other 2; th...</td>\n",
              "    </tr>\n",
              "    <tr>\n",
              "      <th>19</th>\n",
              "      <td>separable from each other.</td>\n",
              "    </tr>\n",
              "    <tr>\n",
              "      <th>20</th>\n",
              "      <td>--- Predicted attribute: class of iris plant.</td>\n",
              "    </tr>\n",
              "    <tr>\n",
              "      <th>21</th>\n",
              "      <td>--- This is an exceedingly simple domain.</td>\n",
              "    </tr>\n",
              "    <tr>\n",
              "      <th>22</th>\n",
              "      <td>--- This data differs from the data present...</td>\n",
              "    </tr>\n",
              "    <tr>\n",
              "      <th>23</th>\n",
              "      <td>\\twhere the error is in the fourth feature.</td>\n",
              "    </tr>\n",
              "    <tr>\n",
              "      <th>24</th>\n",
              "      <td>\\twhere the errors are in the second and third...</td>\n",
              "    </tr>\n",
              "    <tr>\n",
              "      <th>25</th>\n",
              "      <td>5. Number of Instances: 150 (50 in each of thr...</td>\n",
              "    </tr>\n",
              "    <tr>\n",
              "      <th>26</th>\n",
              "      <td>7. Attribute Information:</td>\n",
              "    </tr>\n",
              "    <tr>\n",
              "      <th>27</th>\n",
              "      <td>1. sepal length in cm</td>\n",
              "    </tr>\n",
              "    <tr>\n",
              "      <th>28</th>\n",
              "      <td>2. sepal width in cm</td>\n",
              "    </tr>\n",
              "    <tr>\n",
              "      <th>29</th>\n",
              "      <td>3. petal length in cm</td>\n",
              "    </tr>\n",
              "    <tr>\n",
              "      <th>30</th>\n",
              "      <td>4. petal width in cm</td>\n",
              "    </tr>\n",
              "    <tr>\n",
              "      <th>31</th>\n",
              "      <td>5. class:</td>\n",
              "    </tr>\n",
              "    <tr>\n",
              "      <th>32</th>\n",
              "      <td>-- Iris Setosa</td>\n",
              "    </tr>\n",
              "    <tr>\n",
              "      <th>33</th>\n",
              "      <td>-- Iris Versicolour</td>\n",
              "    </tr>\n",
              "    <tr>\n",
              "      <th>34</th>\n",
              "      <td>-- Iris Virginica</td>\n",
              "    </tr>\n",
              "    <tr>\n",
              "      <th>35</th>\n",
              "      <td>8. Missing Attribute Values: None</td>\n",
              "    </tr>\n",
              "    <tr>\n",
              "      <th>36</th>\n",
              "      <td>Summary Statistics:</td>\n",
              "    </tr>\n",
              "    <tr>\n",
              "      <th>37</th>\n",
              "      <td>\\t         Min  Max   Mean    SD   Class Corre...</td>\n",
              "    </tr>\n",
              "    <tr>\n",
              "      <th>38</th>\n",
              "      <td>sepal length: 4.3  7.9   5.84  0.83    0.78...</td>\n",
              "    </tr>\n",
              "    <tr>\n",
              "      <th>39</th>\n",
              "      <td>sepal width: 2.0  4.4   3.05  0.43   -0.4194</td>\n",
              "    </tr>\n",
              "    <tr>\n",
              "      <th>40</th>\n",
              "      <td>petal length: 1.0  6.9   3.76  1.76    0.94...</td>\n",
              "    </tr>\n",
              "    <tr>\n",
              "      <th>41</th>\n",
              "      <td>petal width: 0.1  2.5   1.20  0.76    0.95...</td>\n",
              "    </tr>\n",
              "    <tr>\n",
              "      <th>42</th>\n",
              "      <td>9. Class Distribution: 33.3% for each of 3 cla...</td>\n",
              "    </tr>\n",
              "  </tbody>\n",
              "</table>\n",
              "</div>"
            ],
            "text/plain": [
              "                       1. Title: Iris Plants Database\n",
              "0   \\tUpdated Sept 21 by C.Blake - Added discrepen...\n",
              "1                                         2. Sources:\n",
              "2                            (a) Creator: R.A. Fisher\n",
              "3        (b) Donor: Michael Marshall (MARSHALL%PLU...\n",
              "4                                      3. Past Usage:\n",
              "5      - Publications: too many to mention!!!  Her...\n",
              "6         (Q327.D83) John Wiley & Sons.  ISBN 0-47...\n",
              "7         Structure and Classification Rule for Re...\n",
              "8         Environments\".  IEEE Transactions on Pat...\n",
              "9                                         -- Results:\n",
              "10           -- very low misclassification rates (...\n",
              "11                                        -- Results:\n",
              "12           -- very low misclassification rates a...\n",
              "13        conceptual clustering system finds 3 cla...\n",
              "14                           4. Relevant Information:\n",
              "15     --- This is perhaps the best known database...\n",
              "16         recognition literature.  Fisher's paper...\n",
              "17         where each class refers to a type of ir...\n",
              "18         linearly separable from the other 2; th...\n",
              "19                         separable from each other.\n",
              "20      --- Predicted attribute: class of iris plant.\n",
              "21          --- This is an exceedingly simple domain.\n",
              "22     --- This data differs from the data present...\n",
              "23        \\twhere the error is in the fourth feature.\n",
              "24  \\twhere the errors are in the second and third...\n",
              "25  5. Number of Instances: 150 (50 in each of thr...\n",
              "26                          7. Attribute Information:\n",
              "27                              1. sepal length in cm\n",
              "28                               2. sepal width in cm\n",
              "29                              3. petal length in cm\n",
              "30                               4. petal width in cm\n",
              "31                                         5. class: \n",
              "32                                     -- Iris Setosa\n",
              "33                                -- Iris Versicolour\n",
              "34                                  -- Iris Virginica\n",
              "35                  8. Missing Attribute Values: None\n",
              "36                                Summary Statistics:\n",
              "37  \\t         Min  Max   Mean    SD   Class Corre...\n",
              "38     sepal length: 4.3  7.9   5.84  0.83    0.78...\n",
              "39       sepal width: 2.0  4.4   3.05  0.43   -0.4194\n",
              "40     petal length: 1.0  6.9   3.76  1.76    0.94...\n",
              "41      petal width: 0.1  2.5   1.20  0.76    0.95...\n",
              "42  9. Class Distribution: 33.3% for each of 3 cla..."
            ]
          },
          "metadata": {},
          "execution_count": 11
        }
      ]
    },
    {
      "cell_type": "code",
      "metadata": {
        "id": "SJ6UAwl8S8W_"
      },
      "source": [
        "# TODO: Add column names to the dataframe.HINT :THE COLUMN NAMES ARE PROVIDED IN iris.names you just downloaded"
      ],
      "execution_count": null,
      "outputs": []
    },
    {
      "cell_type": "code",
      "metadata": {
        "id": "RRz-i3l3YSAB",
        "colab": {
          "base_uri": "https://localhost:8080/"
        },
        "outputId": "fc597daf-1ba2-4b8a-bace-e5d83bff7871"
      },
      "source": [
        "# How many examples are in the dataframe?\n",
        "df.info() # Gives you the columns as rows\n",
        "iris_df.info()\n",
        "# TODO: print the length of the dataframe\n",
        "print('The length of df is :' + str(len(df)))"
      ],
      "execution_count": null,
      "outputs": [
        {
          "output_type": "stream",
          "name": "stdout",
          "text": [
            "<class 'pandas.core.frame.DataFrame'>\n",
            "RangeIndex: 43 entries, 0 to 42\n",
            "Data columns (total 1 columns):\n",
            " #   Column                          Non-Null Count  Dtype \n",
            "---  ------                          --------------  ----- \n",
            " 0   1. Title: Iris Plants Database  43 non-null     object\n",
            "dtypes: object(1)\n",
            "memory usage: 472.0+ bytes\n",
            "<class 'pandas.core.frame.DataFrame'>\n",
            "RangeIndex: 150 entries, 0 to 149\n",
            "Data columns (total 5 columns):\n",
            " #   Column  Non-Null Count  Dtype  \n",
            "---  ------  --------------  -----  \n",
            " 0   0       150 non-null    float64\n",
            " 1   1       150 non-null    float64\n",
            " 2   2       150 non-null    float64\n",
            " 3   3       150 non-null    float64\n",
            " 4   4       150 non-null    object \n",
            "dtypes: float64(4), object(1)\n",
            "memory usage: 6.0+ KB\n",
            "The length of df is :43\n"
          ]
        }
      ]
    },
    {
      "cell_type": "code",
      "metadata": {
        "id": "8sP8bUUXgOE1",
        "colab": {
          "base_uri": "https://localhost:8080/"
        },
        "outputId": "22895f00-958d-45ac-99e6-6bbe23bd34e9"
      },
      "source": [
        "#TODO: Carry out neccessary measures of central tendencies to the columns and explain your choice of measure\n",
        "iris_df.mean()\n",
        "#Print the results\n",
        "print(f'The mean is {iris_df.mean()}')"
      ],
      "execution_count": null,
      "outputs": [
        {
          "output_type": "stream",
          "name": "stdout",
          "text": [
            "The mean is 0    5.843333\n",
            "1    3.054000\n",
            "2    3.758667\n",
            "3    1.198667\n",
            "dtype: float64\n"
          ]
        }
      ]
    },
    {
      "cell_type": "code",
      "metadata": {
        "colab": {
          "base_uri": "https://localhost:8080/"
        },
        "id": "tX4M6IsqkzCx",
        "outputId": "295a720b-387d-4853-e6cc-703ba5fdda5e"
      },
      "source": [
        "# 1. Using the skew() function\n",
        "iris_df.skew()"
      ],
      "execution_count": null,
      "outputs": [
        {
          "output_type": "execute_result",
          "data": {
            "text/plain": [
              "0    0.314911\n",
              "1    0.334053\n",
              "2   -0.274464\n",
              "3   -0.104997\n",
              "dtype: float64"
            ]
          },
          "metadata": {},
          "execution_count": 14
        }
      ]
    },
    {
      "cell_type": "markdown",
      "metadata": {
        "id": "WCo9U4-4l1My"
      },
      "source": [
        "value is less than 1 hence it is not skewed, hence we use mean as a measure of central tendency"
      ]
    },
    {
      "cell_type": "code",
      "metadata": {
        "colab": {
          "base_uri": "https://localhost:8080/",
          "height": 352
        },
        "id": "fQme1l70lDJ8",
        "outputId": "03143ea3-edb1-4ebd-df6c-dd1d66d2d492"
      },
      "source": [
        "sns.distplot(iris_df[0])"
      ],
      "execution_count": null,
      "outputs": [
        {
          "output_type": "stream",
          "name": "stderr",
          "text": [
            "/usr/local/lib/python3.7/dist-packages/seaborn/distributions.py:2557: FutureWarning: `distplot` is a deprecated function and will be removed in a future version. Please adapt your code to use either `displot` (a figure-level function with similar flexibility) or `histplot` (an axes-level function for histograms).\n",
            "  warnings.warn(msg, FutureWarning)\n"
          ]
        },
        {
          "output_type": "execute_result",
          "data": {
            "text/plain": [
              "<matplotlib.axes._subplots.AxesSubplot at 0x7f59610343d0>"
            ]
          },
          "metadata": {},
          "execution_count": 16
        },
        {
          "output_type": "display_data",
          "data": {
            "image/png": "[encoded data removed]",
            "text/plain": [
              "<Figure size 432x288 with 1 Axes>"
            ]
          },
          "metadata": {
            "needs_background": "light"
          }
        }
      ]
    },
    {
      "cell_type": "code",
      "metadata": {
        "id": "xIdbx_uvgiM5",
        "colab": {
          "base_uri": "https://localhost:8080/",
          "height": 141
        },
        "outputId": "6733bce3-4f39-4925-ef74-7916491a31d6"
      },
      "source": [
        "#TODO: Calculate the measures of dispersion of at least two columns and interpret the results\n",
        "# quantiles\n",
        "iris_df.quantile([.25, .5, .75])"
      ],
      "execution_count": null,
      "outputs": [
        {
          "output_type": "execute_result",
          "data": {
            "text/html": [
              "<div>\n",
              "<style scoped>\n",
              "    .dataframe tbody tr th:only-of-type {\n",
              "        vertical-align: middle;\n",
              "    }\n",
              "\n",
              "    .dataframe tbody tr th {\n",
              "        vertical-align: top;\n",
              "    }\n",
              "\n",
              "    .dataframe thead th {\n",
              "        text-align: right;\n",
              "    }\n",
              "</style>\n",
              "<table border=\"1\" class=\"dataframe\">\n",
              "  <thead>\n",
              "    <tr style=\"text-align: right;\">\n",
              "      <th></th>\n",
              "      <th>0</th>\n",
              "      <th>1</th>\n",
              "      <th>2</th>\n",
              "      <th>3</th>\n",
              "    </tr>\n",
              "  </thead>\n",
              "  <tbody>\n",
              "    <tr>\n",
              "      <th>0.25</th>\n",
              "      <td>5.1</td>\n",
              "      <td>2.8</td>\n",
              "      <td>1.60</td>\n",
              "      <td>0.3</td>\n",
              "    </tr>\n",
              "    <tr>\n",
              "      <th>0.50</th>\n",
              "      <td>5.8</td>\n",
              "      <td>3.0</td>\n",
              "      <td>4.35</td>\n",
              "      <td>1.3</td>\n",
              "    </tr>\n",
              "    <tr>\n",
              "      <th>0.75</th>\n",
              "      <td>6.4</td>\n",
              "      <td>3.3</td>\n",
              "      <td>5.10</td>\n",
              "      <td>1.8</td>\n",
              "    </tr>\n",
              "  </tbody>\n",
              "</table>\n",
              "</div>"
            ],
            "text/plain": [
              "        0    1     2    3\n",
              "0.25  5.1  2.8  1.60  0.3\n",
              "0.50  5.8  3.0  4.35  1.3\n",
              "0.75  6.4  3.3  5.10  1.8"
            ]
          },
          "metadata": {},
          "execution_count": 17
        }
      ]
    },
    {
      "cell_type": "markdown",
      "metadata": {
        "id": "5Sd-AOIW1Q50"
      },
      "source": [
        "Interpretation;  quartiles divide data set into quaters. Q1 is the middle number between the smallest number and the median of the data. Q2 is the median of the data set. Q3 is the middle number between the median amd the largest number.\n",
        "The median from the 1st to the 4th column is 5.8, 3.0, 4.35 and 1.3. \n",
        "The mean for the 4 columns are 5.84, 3.054000,3.758667,1.198667 respectively. This shows that they are almost the same because the distribution is normal."
      ]
    },
    {
      "cell_type": "code",
      "metadata": {
        "colab": {
          "base_uri": "https://localhost:8080/"
        },
        "id": "YY4fa-cE3IdI",
        "outputId": "1dcf96b3-77d4-4dab-e496-5b0f9dc9c59e"
      },
      "source": [
        "iris_df.std()"
      ],
      "execution_count": null,
      "outputs": [
        {
          "output_type": "execute_result",
          "data": {
            "text/plain": [
              "0    0.828066\n",
              "1    0.433594\n",
              "2    1.764420\n",
              "3    0.763161\n",
              "dtype: float64"
            ]
          },
          "metadata": {},
          "execution_count": 18
        }
      ]
    },
    {
      "cell_type": "markdown",
      "metadata": {
        "id": "sxGPVmRp3bbT"
      },
      "source": [
        "Interpretation; Mean plus or minus sd shows where most of the values lie. In the 1st column they lie between 5.005264 and 6.661396. in the 2nd column they lie between 2.620406 and 3.487594."
      ]
    },
    {
      "cell_type": "code",
      "metadata": {
        "colab": {
          "base_uri": "https://localhost:8080/"
        },
        "id": "4cNj4tXS4QNA",
        "outputId": "cecb76b9-fa5a-42e5-db65-4499c8e2b91e"
      },
      "source": [
        "# Range\n",
        "iris_df[0].max() - iris_df[0].min()"
      ],
      "execution_count": null,
      "outputs": [
        {
          "output_type": "execute_result",
          "data": {
            "text/plain": [
              "3.6000000000000005"
            ]
          },
          "metadata": {},
          "execution_count": 19
        }
      ]
    },
    {
      "cell_type": "code",
      "metadata": {
        "id": "RSpcbAHo4kDi",
        "colab": {
          "base_uri": "https://localhost:8080/"
        },
        "outputId": "22cb8513-a0d4-4770-e3f0-b6ad38ad6acf"
      },
      "source": [
        "# Range\n",
        "iris_df[1].max() - iris_df[1].min()"
      ],
      "execution_count": null,
      "outputs": [
        {
          "output_type": "execute_result",
          "data": {
            "text/plain": [
              "2.4000000000000004"
            ]
          },
          "metadata": {},
          "execution_count": 20
        }
      ]
    },
    {
      "cell_type": "markdown",
      "metadata": {
        "id": "7oWD4vOy4osG"
      },
      "source": [
        "Range is the difference between two extreme observations of a data set. The range in the 1st column is bigger than the range in the 2nd column."
      ]
    },
    {
      "cell_type": "code",
      "metadata": {
        "id": "k7zDqmytgtjz",
        "colab": {
          "base_uri": "https://localhost:8080/",
          "height": 294
        },
        "outputId": "51406a53-412a-4e73-98ca-06c370576d41"
      },
      "source": [
        "#TODO: Carry out aggregations and simple analytics on the data\n",
        "round(iris_df.describe(),2)"
      ],
      "execution_count": null,
      "outputs": [
        {
          "output_type": "execute_result",
          "data": {
            "text/html": [
              "<div>\n",
              "<style scoped>\n",
              "    .dataframe tbody tr th:only-of-type {\n",
              "        vertical-align: middle;\n",
              "    }\n",
              "\n",
              "    .dataframe tbody tr th {\n",
              "        vertical-align: top;\n",
              "    }\n",
              "\n",
              "    .dataframe thead th {\n",
              "        text-align: right;\n",
              "    }\n",
              "</style>\n",
              "<table border=\"1\" class=\"dataframe\">\n",
              "  <thead>\n",
              "    <tr style=\"text-align: right;\">\n",
              "      <th></th>\n",
              "      <th>0</th>\n",
              "      <th>1</th>\n",
              "      <th>2</th>\n",
              "      <th>3</th>\n",
              "    </tr>\n",
              "  </thead>\n",
              "  <tbody>\n",
              "    <tr>\n",
              "      <th>count</th>\n",
              "      <td>150.00</td>\n",
              "      <td>150.00</td>\n",
              "      <td>150.00</td>\n",
              "      <td>150.00</td>\n",
              "    </tr>\n",
              "    <tr>\n",
              "      <th>mean</th>\n",
              "      <td>5.84</td>\n",
              "      <td>3.05</td>\n",
              "      <td>3.76</td>\n",
              "      <td>1.20</td>\n",
              "    </tr>\n",
              "    <tr>\n",
              "      <th>std</th>\n",
              "      <td>0.83</td>\n",
              "      <td>0.43</td>\n",
              "      <td>1.76</td>\n",
              "      <td>0.76</td>\n",
              "    </tr>\n",
              "    <tr>\n",
              "      <th>min</th>\n",
              "      <td>4.30</td>\n",
              "      <td>2.00</td>\n",
              "      <td>1.00</td>\n",
              "      <td>0.10</td>\n",
              "    </tr>\n",
              "    <tr>\n",
              "      <th>25%</th>\n",
              "      <td>5.10</td>\n",
              "      <td>2.80</td>\n",
              "      <td>1.60</td>\n",
              "      <td>0.30</td>\n",
              "    </tr>\n",
              "    <tr>\n",
              "      <th>50%</th>\n",
              "      <td>5.80</td>\n",
              "      <td>3.00</td>\n",
              "      <td>4.35</td>\n",
              "      <td>1.30</td>\n",
              "    </tr>\n",
              "    <tr>\n",
              "      <th>75%</th>\n",
              "      <td>6.40</td>\n",
              "      <td>3.30</td>\n",
              "      <td>5.10</td>\n",
              "      <td>1.80</td>\n",
              "    </tr>\n",
              "    <tr>\n",
              "      <th>max</th>\n",
              "      <td>7.90</td>\n",
              "      <td>4.40</td>\n",
              "      <td>6.90</td>\n",
              "      <td>2.50</td>\n",
              "    </tr>\n",
              "  </tbody>\n",
              "</table>\n",
              "</div>"
            ],
            "text/plain": [
              "            0       1       2       3\n",
              "count  150.00  150.00  150.00  150.00\n",
              "mean     5.84    3.05    3.76    1.20\n",
              "std      0.83    0.43    1.76    0.76\n",
              "min      4.30    2.00    1.00    0.10\n",
              "25%      5.10    2.80    1.60    0.30\n",
              "50%      5.80    3.00    4.35    1.30\n",
              "75%      6.40    3.30    5.10    1.80\n",
              "max      7.90    4.40    6.90    2.50"
            ]
          },
          "metadata": {},
          "execution_count": 21
        }
      ]
    },
    {
      "cell_type": "code",
      "metadata": {
        "id": "0s4IZLv61Rwr",
        "colab": {
          "base_uri": "https://localhost:8080/"
        },
        "outputId": "33cdf3da-7aad-4689-dacc-1938be223fb5"
      },
      "source": [
        "'''\n",
        "In Pandas ,we use isnull() function\n",
        "we sum the number of missing values per column\n",
        "we sort them in descending order by setting ascending to False\n",
        "\n",
        "'''\n",
        "iris_df.isnull().sum().sort_values(ascending = False)"
      ],
      "execution_count": null,
      "outputs": [
        {
          "output_type": "execute_result",
          "data": {
            "text/plain": [
              "4    0\n",
              "3    0\n",
              "2    0\n",
              "1    0\n",
              "0    0\n",
              "dtype: int64"
            ]
          },
          "metadata": {},
          "execution_count": 23
        }
      ]
    },
    {
      "cell_type": "code",
      "metadata": {
        "colab": {
          "base_uri": "https://localhost:8080/",
          "height": 414
        },
        "id": "wzVrHQjU7xqD",
        "outputId": "74f8cef3-79a6-433c-a82e-5c09dabbdc03"
      },
      "source": [
        "iris_df.sort_values([0,1,2,3])"
      ],
      "execution_count": null,
      "outputs": [
        {
          "output_type": "execute_result",
          "data": {
            "text/html": [
              "<div>\n",
              "<style scoped>\n",
              "    .dataframe tbody tr th:only-of-type {\n",
              "        vertical-align: middle;\n",
              "    }\n",
              "\n",
              "    .dataframe tbody tr th {\n",
              "        vertical-align: top;\n",
              "    }\n",
              "\n",
              "    .dataframe thead th {\n",
              "        text-align: right;\n",
              "    }\n",
              "</style>\n",
              "<table border=\"1\" class=\"dataframe\">\n",
              "  <thead>\n",
              "    <tr style=\"text-align: right;\">\n",
              "      <th></th>\n",
              "      <th>0</th>\n",
              "      <th>1</th>\n",
              "      <th>2</th>\n",
              "      <th>3</th>\n",
              "      <th>4</th>\n",
              "    </tr>\n",
              "  </thead>\n",
              "  <tbody>\n",
              "    <tr>\n",
              "      <th>13</th>\n",
              "      <td>4.3</td>\n",
              "      <td>3.0</td>\n",
              "      <td>1.1</td>\n",
              "      <td>0.1</td>\n",
              "      <td>Iris-setosa</td>\n",
              "    </tr>\n",
              "    <tr>\n",
              "      <th>8</th>\n",
              "      <td>4.4</td>\n",
              "      <td>2.9</td>\n",
              "      <td>1.4</td>\n",
              "      <td>0.2</td>\n",
              "      <td>Iris-setosa</td>\n",
              "    </tr>\n",
              "    <tr>\n",
              "      <th>38</th>\n",
              "      <td>4.4</td>\n",
              "      <td>3.0</td>\n",
              "      <td>1.3</td>\n",
              "      <td>0.2</td>\n",
              "      <td>Iris-setosa</td>\n",
              "    </tr>\n",
              "    <tr>\n",
              "      <th>42</th>\n",
              "      <td>4.4</td>\n",
              "      <td>3.2</td>\n",
              "      <td>1.3</td>\n",
              "      <td>0.2</td>\n",
              "      <td>Iris-setosa</td>\n",
              "    </tr>\n",
              "    <tr>\n",
              "      <th>41</th>\n",
              "      <td>4.5</td>\n",
              "      <td>2.3</td>\n",
              "      <td>1.3</td>\n",
              "      <td>0.3</td>\n",
              "      <td>Iris-setosa</td>\n",
              "    </tr>\n",
              "    <tr>\n",
              "      <th>...</th>\n",
              "      <td>...</td>\n",
              "      <td>...</td>\n",
              "      <td>...</td>\n",
              "      <td>...</td>\n",
              "      <td>...</td>\n",
              "    </tr>\n",
              "    <tr>\n",
              "      <th>118</th>\n",
              "      <td>7.7</td>\n",
              "      <td>2.6</td>\n",
              "      <td>6.9</td>\n",
              "      <td>2.3</td>\n",
              "      <td>Iris-virginica</td>\n",
              "    </tr>\n",
              "    <tr>\n",
              "      <th>122</th>\n",
              "      <td>7.7</td>\n",
              "      <td>2.8</td>\n",
              "      <td>6.7</td>\n",
              "      <td>2.0</td>\n",
              "      <td>Iris-virginica</td>\n",
              "    </tr>\n",
              "    <tr>\n",
              "      <th>135</th>\n",
              "      <td>7.7</td>\n",
              "      <td>3.0</td>\n",
              "      <td>6.1</td>\n",
              "      <td>2.3</td>\n",
              "      <td>Iris-virginica</td>\n",
              "    </tr>\n",
              "    <tr>\n",
              "      <th>117</th>\n",
              "      <td>7.7</td>\n",
              "      <td>3.8</td>\n",
              "      <td>6.7</td>\n",
              "      <td>2.2</td>\n",
              "      <td>Iris-virginica</td>\n",
              "    </tr>\n",
              "    <tr>\n",
              "      <th>131</th>\n",
              "      <td>7.9</td>\n",
              "      <td>3.8</td>\n",
              "      <td>6.4</td>\n",
              "      <td>2.0</td>\n",
              "      <td>Iris-virginica</td>\n",
              "    </tr>\n",
              "  </tbody>\n",
              "</table>\n",
              "<p>150 rows × 5 columns</p>\n",
              "</div>"
            ],
            "text/plain": [
              "       0    1    2    3               4\n",
              "13   4.3  3.0  1.1  0.1     Iris-setosa\n",
              "8    4.4  2.9  1.4  0.2     Iris-setosa\n",
              "38   4.4  3.0  1.3  0.2     Iris-setosa\n",
              "42   4.4  3.2  1.3  0.2     Iris-setosa\n",
              "41   4.5  2.3  1.3  0.3     Iris-setosa\n",
              "..   ...  ...  ...  ...             ...\n",
              "118  7.7  2.6  6.9  2.3  Iris-virginica\n",
              "122  7.7  2.8  6.7  2.0  Iris-virginica\n",
              "135  7.7  3.0  6.1  2.3  Iris-virginica\n",
              "117  7.7  3.8  6.7  2.2  Iris-virginica\n",
              "131  7.9  3.8  6.4  2.0  Iris-virginica\n",
              "\n",
              "[150 rows x 5 columns]"
            ]
          },
          "metadata": {},
          "execution_count": 27
        }
      ]
    },
    {
      "cell_type": "code",
      "metadata": {
        "colab": {
          "base_uri": "https://localhost:8080/",
          "height": 508
        },
        "id": "-K0SjdgQ-BtK",
        "outputId": "ba46481d-1a08-4ab5-e33a-47f12496cf90"
      },
      "source": [
        "iris_df.iloc[15:30]"
      ],
      "execution_count": null,
      "outputs": [
        {
          "output_type": "execute_result",
          "data": {
            "text/html": [
              "<div>\n",
              "<style scoped>\n",
              "    .dataframe tbody tr th:only-of-type {\n",
              "        vertical-align: middle;\n",
              "    }\n",
              "\n",
              "    .dataframe tbody tr th {\n",
              "        vertical-align: top;\n",
              "    }\n",
              "\n",
              "    .dataframe thead th {\n",
              "        text-align: right;\n",
              "    }\n",
              "</style>\n",
              "<table border=\"1\" class=\"dataframe\">\n",
              "  <thead>\n",
              "    <tr style=\"text-align: right;\">\n",
              "      <th></th>\n",
              "      <th>0</th>\n",
              "      <th>1</th>\n",
              "      <th>2</th>\n",
              "      <th>3</th>\n",
              "      <th>4</th>\n",
              "    </tr>\n",
              "  </thead>\n",
              "  <tbody>\n",
              "    <tr>\n",
              "      <th>15</th>\n",
              "      <td>5.7</td>\n",
              "      <td>4.4</td>\n",
              "      <td>1.5</td>\n",
              "      <td>0.4</td>\n",
              "      <td>Iris-setosa</td>\n",
              "    </tr>\n",
              "    <tr>\n",
              "      <th>16</th>\n",
              "      <td>5.4</td>\n",
              "      <td>3.9</td>\n",
              "      <td>1.3</td>\n",
              "      <td>0.4</td>\n",
              "      <td>Iris-setosa</td>\n",
              "    </tr>\n",
              "    <tr>\n",
              "      <th>17</th>\n",
              "      <td>5.1</td>\n",
              "      <td>3.5</td>\n",
              "      <td>1.4</td>\n",
              "      <td>0.3</td>\n",
              "      <td>Iris-setosa</td>\n",
              "    </tr>\n",
              "    <tr>\n",
              "      <th>18</th>\n",
              "      <td>5.7</td>\n",
              "      <td>3.8</td>\n",
              "      <td>1.7</td>\n",
              "      <td>0.3</td>\n",
              "      <td>Iris-setosa</td>\n",
              "    </tr>\n",
              "    <tr>\n",
              "      <th>19</th>\n",
              "      <td>5.1</td>\n",
              "      <td>3.8</td>\n",
              "      <td>1.5</td>\n",
              "      <td>0.3</td>\n",
              "      <td>Iris-setosa</td>\n",
              "    </tr>\n",
              "    <tr>\n",
              "      <th>20</th>\n",
              "      <td>5.4</td>\n",
              "      <td>3.4</td>\n",
              "      <td>1.7</td>\n",
              "      <td>0.2</td>\n",
              "      <td>Iris-setosa</td>\n",
              "    </tr>\n",
              "    <tr>\n",
              "      <th>21</th>\n",
              "      <td>5.1</td>\n",
              "      <td>3.7</td>\n",
              "      <td>1.5</td>\n",
              "      <td>0.4</td>\n",
              "      <td>Iris-setosa</td>\n",
              "    </tr>\n",
              "    <tr>\n",
              "      <th>22</th>\n",
              "      <td>4.6</td>\n",
              "      <td>3.6</td>\n",
              "      <td>1.0</td>\n",
              "      <td>0.2</td>\n",
              "      <td>Iris-setosa</td>\n",
              "    </tr>\n",
              "    <tr>\n",
              "      <th>23</th>\n",
              "      <td>5.1</td>\n",
              "      <td>3.3</td>\n",
              "      <td>1.7</td>\n",
              "      <td>0.5</td>\n",
              "      <td>Iris-setosa</td>\n",
              "    </tr>\n",
              "    <tr>\n",
              "      <th>24</th>\n",
              "      <td>4.8</td>\n",
              "      <td>3.4</td>\n",
              "      <td>1.9</td>\n",
              "      <td>0.2</td>\n",
              "      <td>Iris-setosa</td>\n",
              "    </tr>\n",
              "    <tr>\n",
              "      <th>25</th>\n",
              "      <td>5.0</td>\n",
              "      <td>3.0</td>\n",
              "      <td>1.6</td>\n",
              "      <td>0.2</td>\n",
              "      <td>Iris-setosa</td>\n",
              "    </tr>\n",
              "    <tr>\n",
              "      <th>26</th>\n",
              "      <td>5.0</td>\n",
              "      <td>3.4</td>\n",
              "      <td>1.6</td>\n",
              "      <td>0.4</td>\n",
              "      <td>Iris-setosa</td>\n",
              "    </tr>\n",
              "    <tr>\n",
              "      <th>27</th>\n",
              "      <td>5.2</td>\n",
              "      <td>3.5</td>\n",
              "      <td>1.5</td>\n",
              "      <td>0.2</td>\n",
              "      <td>Iris-setosa</td>\n",
              "    </tr>\n",
              "    <tr>\n",
              "      <th>28</th>\n",
              "      <td>5.2</td>\n",
              "      <td>3.4</td>\n",
              "      <td>1.4</td>\n",
              "      <td>0.2</td>\n",
              "      <td>Iris-setosa</td>\n",
              "    </tr>\n",
              "    <tr>\n",
              "      <th>29</th>\n",
              "      <td>4.7</td>\n",
              "      <td>3.2</td>\n",
              "      <td>1.6</td>\n",
              "      <td>0.2</td>\n",
              "      <td>Iris-setosa</td>\n",
              "    </tr>\n",
              "  </tbody>\n",
              "</table>\n",
              "</div>"
            ],
            "text/plain": [
              "      0    1    2    3            4\n",
              "15  5.7  4.4  1.5  0.4  Iris-setosa\n",
              "16  5.4  3.9  1.3  0.4  Iris-setosa\n",
              "17  5.1  3.5  1.4  0.3  Iris-setosa\n",
              "18  5.7  3.8  1.7  0.3  Iris-setosa\n",
              "19  5.1  3.8  1.5  0.3  Iris-setosa\n",
              "20  5.4  3.4  1.7  0.2  Iris-setosa\n",
              "21  5.1  3.7  1.5  0.4  Iris-setosa\n",
              "22  4.6  3.6  1.0  0.2  Iris-setosa\n",
              "23  5.1  3.3  1.7  0.5  Iris-setosa\n",
              "24  4.8  3.4  1.9  0.2  Iris-setosa\n",
              "25  5.0  3.0  1.6  0.2  Iris-setosa\n",
              "26  5.0  3.4  1.6  0.4  Iris-setosa\n",
              "27  5.2  3.5  1.5  0.2  Iris-setosa\n",
              "28  5.2  3.4  1.4  0.2  Iris-setosa\n",
              "29  4.7  3.2  1.6  0.2  Iris-setosa"
            ]
          },
          "metadata": {},
          "execution_count": 29
        }
      ]
    },
    {
      "cell_type": "code",
      "metadata": {
        "id": "2PuJ_WoDYSDj"
      },
      "source": [
        "## Test. DO NOT MODIFY THIS CELL.JUST RUN IT.IF THERE IS AN ERROR,YOU DID SOMETHING WRONG!\n",
        "\n",
        "assert len(iris_df) == 150, \"Length of dataframe is incorrect. You must have read the CSV wrongly\""
      ],
      "execution_count": null,
      "outputs": []
    }
  ]
}